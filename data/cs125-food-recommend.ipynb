{
 "cells": [
  {
   "cell_type": "code",
   "execution_count": 1,
   "id": "silent-tracker",
   "metadata": {},
   "outputs": [],
   "source": [
    "import numpy as np\n",
    "import pandas as pd\n",
    "import matplotlib.pyplot as plt\n",
    "from sklearn.model_selection import train_test_split \n",
    "from sklearn.linear_model import LinearRegression\n",
    "from sklearn import metrics\n",
    "\n",
    "np.random.seed(0)\n",
    "%matplotlib inline\n",
    "\n",
    "COLS = ['name','Baked Foods','Dairy/Egg','Fast Foods','Fish','Grains/Pasta','Meats','Soups','Vegetables',\n",
    "             'calories','fat','protein','carbohydrate']"
   ]
  },
  {
   "cell_type": "code",
   "execution_count": 4,
   "id": "sticky-stress",
   "metadata": {},
   "outputs": [],
   "source": [
    "food = pd.read_csv('food_data.csv', sep=\",\", names=COLS)\n",
    "food = food.iloc[1:]\n",
    "user = pd.read_csv('user_data.csv', sep=\",\", names=COLS[1:])\n",
    "user = user.iloc[1:]"
   ]
  },
  {
   "cell_type": "code",
   "execution_count": 5,
   "id": "interracial-chile",
   "metadata": {},
   "outputs": [
    {
     "name": "stdout",
     "output_type": "stream",
     "text": [
      "                       name Baked Foods Dairy/Egg Fast Foods Fish  \\\n",
      "1                    Bagels           1         1          0    0   \n",
      "2          Blueberry Muffin           1         1          0    0   \n",
      "3              Cheese Pizza           1         1          1    0   \n",
      "4    Chocolate Chip Waffles           1         1          0    0   \n",
      "5                   Churros           1         1          0    0   \n",
      "..                      ...         ...       ...        ...  ...   \n",
      "194         Watercress Soup           0         0          0    0   \n",
      "195     Winter Squash Salad           0         0          0    0   \n",
      "196                     Yam           0         0          0    0   \n",
      "197           Cream of Corn           0         0          0    0   \n",
      "198          Zucchini Salad           0         0          0    0   \n",
      "\n",
      "    Grains/Pasta Meats Soups Vegetables calories    fat protein carbohydrate  \n",
      "1              0     0     0          0      250   1.53    10.2        48.89  \n",
      "2              0     0     0          0      313    9.5     4.6         53.3  \n",
      "3              0     0     0          0      250   8.59   13.67         29.7  \n",
      "4              0     0     0          0      297   10.1     5.8        45.68  \n",
      "5              0     0     0          0      481  30.58    3.02         49.8  \n",
      "..           ...   ...   ...        ...      ...    ...     ...          ...  \n",
      "194            0     0     1          1       11    0.1     2.3         1.29  \n",
      "195            0     0     0          1       34   0.13    0.95         8.59  \n",
      "196            0     0     0          1      118   0.17    1.53        27.88  \n",
      "197            0     0     0          1       86   1.35    3.27         18.7  \n",
      "198            0     0     0          1       17   0.32    1.21         3.11  \n",
      "\n",
      "[198 rows x 13 columns]\n"
     ]
    }
   ],
   "source": [
    "print(food)"
   ]
  },
  {
   "cell_type": "code",
   "execution_count": null,
   "id": "photographic-destination",
   "metadata": {},
   "outputs": [],
   "source": []
  }
 ],
 "metadata": {
  "kernelspec": {
   "display_name": "Python 3",
   "language": "python",
   "name": "python3"
  },
  "language_info": {
   "codemirror_mode": {
    "name": "ipython",
    "version": 3
   },
   "file_extension": ".py",
   "mimetype": "text/x-python",
   "name": "python",
   "nbconvert_exporter": "python",
   "pygments_lexer": "ipython3",
   "version": "3.8.4"
  }
 },
 "nbformat": 4,
 "nbformat_minor": 5
}
