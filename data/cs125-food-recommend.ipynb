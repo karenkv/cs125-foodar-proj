{
 "cells": [
  {
   "cell_type": "code",
   "execution_count": 57,
   "id": "traditional-flush",
   "metadata": {},
   "outputs": [],
   "source": [
    "import numpy as np\n",
    "import pandas as pd\n",
    "import matplotlib.pyplot as plt\n",
    "from sklearn.model_selection import train_test_split \n",
    "from sklearn.linear_model import LinearRegression\n",
    "from sklearn.neighbors import KNeighborsClassifier\n",
    "from sklearn import metrics\n",
    "\n",
    "np.random.seed(0)\n",
    "%matplotlib inline\n",
    "\n",
    "COLS = ['name','Baked Foods','Dairy/Egg','Fast Foods','Fish','Grains/Pasta','Meats','Soups','Vegetables',\n",
    "             'calories','fat','protein','carbohydrate']"
   ]
  },
  {
   "cell_type": "code",
   "execution_count": 58,
   "id": "arctic-circumstances",
   "metadata": {},
   "outputs": [],
   "source": [
    "food = pd.read_csv('food_data.csv', sep=\",\", names=COLS)\n",
    "food = food.iloc[1:]\n",
    "\n",
    "user = pd.read_csv('user_data.csv', sep=\",\", names=COLS)\n",
    "user = user.iloc[1:]\n",
    "user.drop(columns=[\"name\"], inplace=True)\n",
    "\n",
    "X = food.values[:, 1:]\n",
    "Y = food.values[:, 0]"
   ]
  },
  {
   "cell_type": "code",
   "execution_count": 59,
   "id": "suspected-egypt",
   "metadata": {
    "scrolled": false
   },
   "outputs": [],
   "source": [
    "model = KNeighborsClassifier(n_neighbors=3)\n",
    "model.fit(X, Y)\n",
    "model.predict(user)"
   ]
  },
  {
   "cell_type": "code",
   "execution_count": 60,
   "id": "signed-review",
   "metadata": {},
   "outputs": [
    {
     "name": "stdout",
     "output_type": "stream",
     "text": [
      "['Braised Beef Shortribs' 'Braised Beef Shortribs'\n",
      " 'Braised Beef Shortribs' 'Braised Beef Shortribs'\n",
      " 'Braised Beef Shortribs' 'Braised Beef Shortribs' 'Bacon'\n",
      " 'Braised Beef Shortribs' 'Braised Beef Shortribs' 'Egg Benedict'\n",
      " 'Braised Beef Shortribs' 'Braised Beef Shortribs' 'Bacon'\n",
      " 'Braised Beef Shortribs' 'Braised Beef Shortribs'\n",
      " 'Braised Beef Shortribs' 'Braised Beef Shortribs'\n",
      " 'Braised Beef Shortribs' 'Braised Beef Shortribs'\n",
      " 'Braised Beef Shortribs' 'Braised Beef Shortribs'\n",
      " 'Braised Beef Shortribs' 'Braised Beef Shortribs' 'Churros'\n",
      " 'Braised Beef Shortribs' 'Braised Beef Shortribs'\n",
      " 'Braised Beef Shortribs' 'Braised Beef Shortribs'\n",
      " 'Braised Beef Shortribs' 'Braised Beef Shortribs'\n",
      " 'Braised Beef Shortribs' 'Braised Beef Shortribs'\n",
      " 'Braised Beef Shortribs' 'Braised Beef Shortribs'\n",
      " 'Braised Beef Shortribs' 'Braised Beef Shortribs'\n",
      " 'Braised Beef Shortribs' 'Braised Beef Shortribs'\n",
      " 'Braised Beef Shortribs' 'Braised Beef Shortribs' 'Bacon'\n",
      " 'Braised Beef Shortribs' 'Braised Beef Shortribs'\n",
      " 'Braised Beef Shortribs' 'Braised Beef Shortribs'\n",
      " 'Braised Beef Shortribs' 'Braised Beef Shortribs'\n",
      " 'Braised Beef Shortribs' 'Beef Galbi' 'Braised Beef Shortribs' 'Bacon'\n",
      " 'Leeks ' 'Braised Beef Shortribs' 'Braised Beef Shortribs'\n",
      " 'Braised Beef Shortribs' 'Braised Beef Shortribs'\n",
      " 'Braised Beef Shortribs' 'Braised Beef Shortribs'\n",
      " 'Braised Beef Shortribs' 'Braised Beef Shortribs' 'Bacon'\n",
      " 'Braised Beef Shortribs' 'Braised Beef Shortribs' 'Corn Fritter'\n",
      " 'Braised Beef Shortribs' 'Braised Beef Shortribs'\n",
      " 'Braised Beef Shortribs' 'Braised Beef Shortribs'\n",
      " 'Braised Beef Shortribs' 'Braised Beef Shortribs'\n",
      " 'Braised Beef Shortribs' 'Braised Beef Shortribs'\n",
      " 'Braised Beef Shortribs' 'Bacon' 'Braised Beef Shortribs'\n",
      " 'Braised Beef Shortribs' 'Beef Galbi' 'Braised Beef Shortribs'\n",
      " 'Braised Beef Shortribs' 'Braised Beef Shortribs'\n",
      " 'Braised Beef Shortribs' 'Bacon' 'Braised Beef Shortribs'\n",
      " 'Braised Beef Shortribs' 'Braised Beef Shortribs'\n",
      " 'Braised Beef Shortribs' 'Braised Beef Shortribs'\n",
      " 'Braised Beef Shortribs' 'Braised Beef Shortribs' 'Bacon'\n",
      " 'Braised Beef Shortribs' 'Braised Beef Shortribs' 'Bacon'\n",
      " 'Braised Beef Shortribs' 'Bacon' 'Bacon' 'Braised Beef Shortribs' 'Bacon'\n",
      " 'Braised Beef Shortribs' 'Braised Beef Shortribs' 'Bacon'\n",
      " 'Braised Beef Shortribs' 'Braised Beef Shortribs' 'Bacon' 'Beef Galbi'\n",
      " 'Braised Beef Shortribs' 'Braised Beef Shortribs'\n",
      " 'Braised Beef Shortribs' 'Braised Beef Shortribs'\n",
      " 'Braised Beef Shortribs' 'Bacon' 'Braised Beef Shortribs'\n",
      " 'Braised Beef Shortribs' 'Braised Beef Shortribs'\n",
      " 'Braised Beef Shortribs' 'Braised Beef Shortribs'\n",
      " 'Braised Beef Shortribs' 'Doughnuts' 'Braised Beef Shortribs'\n",
      " 'Braised Beef Shortribs' 'Braised Beef Shortribs'\n",
      " 'Braised Beef Shortribs' 'Braised Beef Shortribs'\n",
      " 'Braised Beef Shortribs' 'Braised Beef Shortribs'\n",
      " 'Braised Beef Shortribs' 'Braised Beef Shortribs' 'Beef Galbi'\n",
      " 'Braised Beef Shortribs' 'Bacon' 'Braised Beef Shortribs'\n",
      " 'Braised Beef Shortribs' 'Braised Beef Shortribs' 'Doughnuts'\n",
      " 'Braised Beef Shortribs' 'Braised Beef Shortribs' 'Bacon'\n",
      " 'Braised Beef Shortribs' 'Braised Beef Shortribs' 'Corn Fritter' 'Bacon'\n",
      " 'Braised Beef Shortribs' 'Braised Beef Shortribs' 'Bacon'\n",
      " 'Braised Beef Shortribs' 'Braised Beef Shortribs'\n",
      " 'Braised Beef Shortribs' 'Braised Beef Shortribs'\n",
      " 'Braised Beef Shortribs' 'Braised Beef Shortribs'\n",
      " 'Braised Beef Shortribs' 'Braised Beef Shortribs'\n",
      " 'Braised Beef Shortribs' 'Leeks ' 'Braised Beef Shortribs'\n",
      " 'Braised Beef Shortribs' 'Braised Beef Shortribs'\n",
      " 'Braised Beef Shortribs' 'Braised Beef Shortribs'\n",
      " 'Braised Beef Shortribs' 'Braised Beef Shortribs' 'Bacon' 'Bacon' 'Bacon'\n",
      " 'Braised Beef Shortribs' 'Bacon' 'Braised Beef Shortribs'\n",
      " 'Braised Beef Shortribs' 'Braised Beef Shortribs'\n",
      " 'Braised Beef Shortribs' 'Braised Beef Shortribs'\n",
      " 'Braised Beef Shortribs' 'Braised Beef Shortribs'\n",
      " 'Braised Beef Shortribs' 'Braised Beef Shortribs'\n",
      " 'Braised Beef Shortribs' 'Braised Beef Shortribs'\n",
      " 'Braised Beef Shortribs' 'Braised Beef Shortribs' 'Bacon'\n",
      " 'Braised Beef Shortribs' 'Bacon' 'Braised Beef Shortribs'\n",
      " 'Braised Beef Shortribs' 'Braised Beef Shortribs'\n",
      " 'Braised Beef Shortribs' 'Braised Beef Shortribs'\n",
      " 'Braised Beef Shortribs' 'Bacon' 'Braised Beef Shortribs'\n",
      " 'Braised Beef Shortribs' 'Braised Beef Shortribs'\n",
      " 'Braised Beef Shortribs' 'Braised Beef Shortribs' 'Doughnuts'\n",
      " 'Braised Beef Shortribs' 'Braised Beef Shortribs'\n",
      " 'Braised Beef Shortribs']\n"
     ]
    }
   ],
   "source": [
    "print(Y_pred)"
   ]
  },
  {
   "cell_type": "code",
   "execution_count": null,
   "id": "flush-accountability",
   "metadata": {},
   "outputs": [],
   "source": []
  }
 ],
 "metadata": {
  "kernelspec": {
   "display_name": "Python 3",
   "language": "python",
   "name": "python3"
  },
  "language_info": {
   "codemirror_mode": {
    "name": "ipython",
    "version": 3
   },
   "file_extension": ".py",
   "mimetype": "text/x-python",
   "name": "python",
   "nbconvert_exporter": "python",
   "pygments_lexer": "ipython3",
   "version": "3.8.4"
  }
 },
 "nbformat": 4,
 "nbformat_minor": 5
}
